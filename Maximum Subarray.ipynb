{
 "cells": [
  {
   "cell_type": "code",
   "execution_count": 1,
   "id": "444d5f80",
   "metadata": {},
   "outputs": [],
   "source": [
    "class Solution:\n",
    "    def maxSubArray(self, nums: 'List[int]') -> 'int':\n",
    "        #create variable initially \n",
    "        \n",
    "        l = len(nums)\n",
    "        if l == 0:\n",
    "            return 0\n",
    "        res = now = nums[0]\n",
    "        for i in range(1, l):\n",
    "            if now > 0:\n",
    "                now += nums[i]\n",
    "            else:\n",
    "                now = nums[i]\n",
    "               \n",
    "            \n",
    "            if now > res:\n",
    "                res = now\n",
    "                \n",
    "        return res\n",
    "    "
   ]
  },
  {
   "cell_type": "code",
   "execution_count": null,
   "id": "8c82714a",
   "metadata": {},
   "outputs": [],
   "source": []
  }
 ],
 "metadata": {
  "kernelspec": {
   "display_name": "Python 3 (ipykernel)",
   "language": "python",
   "name": "python3"
  },
  "language_info": {
   "codemirror_mode": {
    "name": "ipython",
    "version": 3
   },
   "file_extension": ".py",
   "mimetype": "text/x-python",
   "name": "python",
   "nbconvert_exporter": "python",
   "pygments_lexer": "ipython3",
   "version": "3.9.7"
  }
 },
 "nbformat": 4,
 "nbformat_minor": 5
}
