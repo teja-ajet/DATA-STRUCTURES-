{
 "cells": [
  {
   "cell_type": "code",
   "execution_count": null,
   "id": "bb3b1b40",
   "metadata": {},
   "outputs": [],
   "source": [
    "lass Solution:\n",
    "    def addTwoNumbers(self,l1:ListNode,l2:ListNode)->ListNode:\n",
    "        # it is a starter node\n",
    "        dummy = ListNode()\n",
    "        cur = dummy\n",
    "        carry = 0\n",
    "        # l1 or l2 is each digit\n",
    "        # since it is reversed, we start to sum the 1's place. that makes it easier\n",
    "        while l1 or l2 or carry:\n",
    "            v1 = l1.val if l1 else 0\n",
    "            v2 = l2.val if l2 else 0\n",
    "\n",
    "            val = v1 + v2 + carry\n",
    "            # because we are adding digits, if it is 15 carry will be 1                     \n",
    "\n",
    "            carry = val // 10\n",
    "            val = val % 10\n",
    "            cur.next = ListNode(val)\n",
    "            # update pointers\n",
    "            cur = cur.next\n",
    "            l1 = l1.next if l1 else None\n",
    "            l2 = l2.next if l2 else None\n",
    "        return dummy.next\n"
   ]
  }
 ],
 "metadata": {
  "kernelspec": {
   "display_name": "Python 3 (ipykernel)",
   "language": "python",
   "name": "python3"
  },
  "language_info": {
   "codemirror_mode": {
    "name": "ipython",
    "version": 3
   },
   "file_extension": ".py",
   "mimetype": "text/x-python",
   "name": "python",
   "nbconvert_exporter": "python",
   "pygments_lexer": "ipython3",
   "version": "3.9.7"
  }
 },
 "nbformat": 4,
 "nbformat_minor": 5
}
