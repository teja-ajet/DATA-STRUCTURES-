{
 "cells": [
  {
   "cell_type": "code",
   "execution_count": null,
   "id": "ce8d6e1c",
   "metadata": {},
   "outputs": [],
   "source": [
    "class Solution:\n",
    "    def mergeTwoLists(self, list1: Optional[ListNode], list2: Optional[ListNode]) -> Optional[ListNode]:\n",
    "           if list1 is None:\n",
    "            return list2\n",
    "           if list2 is None:\n",
    "            return list1\n",
    "    emtlist=[]\n",
    "    for i in list1:\n",
    "          i.insert(emtlist)\n",
    "    for j in  list2:\n",
    "          j.insert(emtlist)\n",
    "            \n",
    "            "
   ]
  },
  {
   "cell_type": "code",
   "execution_count": null,
   "id": "10ee9d8c",
   "metadata": {},
   "outputs": [],
   "source": [
    "class Solution:\n",
    "    def mergeTwoLists(self, l1: Optional[ListNode], l2: Optional[ListNode]) -> Optional[ListNode]:\n",
    "        dum = ListNode(None)\n",
    "        prev = dum\n",
    "        \n",
    "        while l1 and l2:\n",
    "            if l1.val <= l2.val:\n",
    "                prev.next = l1\n",
    "                l1 = l1.next\n",
    "            else:\n",
    "                prev.next = l2\n",
    "                l2 = l2.next\n",
    "            prev = prev.next\n",
    "        \n",
    "        if l1 == None:\n",
    "            prev.next = l2\n",
    "        elif l2 == None:\n",
    "            prev.next = l1\n",
    "        \n",
    "        return dum.next"
   ]
  }
 ],
 "metadata": {
  "kernelspec": {
   "display_name": "Python 3 (ipykernel)",
   "language": "python",
   "name": "python3"
  },
  "language_info": {
   "codemirror_mode": {
    "name": "ipython",
    "version": 3
   },
   "file_extension": ".py",
   "mimetype": "text/x-python",
   "name": "python",
   "nbconvert_exporter": "python",
   "pygments_lexer": "ipython3",
   "version": "3.9.7"
  }
 },
 "nbformat": 4,
 "nbformat_minor": 5
}
