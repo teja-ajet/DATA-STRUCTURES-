{
 "cells": [
  {
   "cell_type": "code",
   "execution_count": null,
   "id": "50e9c0e2",
   "metadata": {},
   "outputs": [],
   "source": [
    "class Solution:\n",
    "    def generate(self, numRows: int) -> List[List[int]]:\n",
    "        \n",
    "        triangle = [[1]]\n",
    "        \n",
    "        for j in range(1, numRows):\n",
    "            prev = triangle[-1]\n",
    "            triangle.append([1] + [prev[i]+prev[i+1] for i in range(len(prev)-1)] + [1])\n",
    "            \n",
    "        return triangle"
   ]
  }
 ],
 "metadata": {
  "kernelspec": {
   "display_name": "Python 3 (ipykernel)",
   "language": "python",
   "name": "python3"
  },
  "language_info": {
   "codemirror_mode": {
    "name": "ipython",
    "version": 3
   },
   "file_extension": ".py",
   "mimetype": "text/x-python",
   "name": "python",
   "nbconvert_exporter": "python",
   "pygments_lexer": "ipython3",
   "version": "3.9.7"
  }
 },
 "nbformat": 4,
 "nbformat_minor": 5
}
