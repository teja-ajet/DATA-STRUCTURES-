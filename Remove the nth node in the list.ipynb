{
 "cells": [
  {
   "cell_type": "code",
   "execution_count": null,
   "id": "31a9d297",
   "metadata": {},
   "outputs": [],
   "source": [
    "class Solution:\n",
    "    def removeNthFromEnd(self, head: ListNode, n: int) -> ListNode:\n",
    "        # Preventation\n",
    "        if head.next == None: return None\n",
    "        \n",
    "        # Init\n",
    "        currentNode = ListNode(0, head)\n",
    "        removeNode = ListNode(0, head)\n",
    "        length = 0\n",
    "        \n",
    "        # Walk\n",
    "        while (currentNode.next.next != None):\n",
    "            length += 1\n",
    "            if length <= n:\n",
    "                currentNode.next = currentNode.next.next\n",
    "            else:\n",
    "                currentNode.next = currentNode.next.next\n",
    "                removeNode.next = removeNode.next.next\n",
    "        \n",
    "        # If remove node is the first node\n",
    "        if n-length == 1:\n",
    "            return head.next\n",
    "        # Remove other node\n",
    "        else:\n",
    "            removeNode.next.next = removeNode.next.next.next\n",
    "            return head\n",
    "        "
   ]
  }
 ],
 "metadata": {
  "kernelspec": {
   "display_name": "Python 3 (ipykernel)",
   "language": "python",
   "name": "python3"
  },
  "language_info": {
   "codemirror_mode": {
    "name": "ipython",
    "version": 3
   },
   "file_extension": ".py",
   "mimetype": "text/x-python",
   "name": "python",
   "nbconvert_exporter": "python",
   "pygments_lexer": "ipython3",
   "version": "3.9.7"
  }
 },
 "nbformat": 4,
 "nbformat_minor": 5
}
